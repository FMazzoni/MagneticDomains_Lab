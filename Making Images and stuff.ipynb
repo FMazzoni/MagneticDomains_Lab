{
 "cells": [
  {
   "cell_type": "code",
   "execution_count": null,
   "metadata": {
    "collapsed": true
   },
   "outputs": [],
   "source": [
    "f1 = plt.figure(num='something',figsize = (24,12), dpi =150)\n",
    "\n",
    "plt.subplot(1,3,1)\n",
    "plt.imshow(img)\n",
    "\n",
    "plt.subplot(1,3,2)\n",
    "plt.imshow(img1)\n",
    "\n",
    "plt.subplot(1,3,3)\n",
    "plt.imshow(img2)\n",
    "\n",
    "plt.savefig('rgbtobinary.png')\n",
    "plt.show()"
   ]
  },
  {
   "cell_type": "code",
   "execution_count": null,
   "metadata": {
    "collapsed": true
   },
   "outputs": [],
   "source": [
    "Light_arr = np.zeros(101)\n",
    "for y in range(10):\n",
    "    Light_list = []\n",
    "    for x in range(101):\n",
    "        Dark, Light, m = getm('MD/E1/450F1/%d.png' %((y)*50),background, pics = False, low = x/100, high = x/100 +.01)\n",
    "        Light_list.append(Light/(Light+Dark))\n",
    "    Light_arr += np.array(Light_list)\n"
   ]
  }
 ],
 "metadata": {
  "kernelspec": {
   "display_name": "Python 3",
   "language": "python",
   "name": "python3"
  },
  "language_info": {
   "codemirror_mode": {
    "name": "ipython",
    "version": 3
   },
   "file_extension": ".py",
   "mimetype": "text/x-python",
   "name": "python",
   "nbconvert_exporter": "python",
   "pygments_lexer": "ipython3",
   "version": "3.7.4"
  }
 },
 "nbformat": 4,
 "nbformat_minor": 2
}
